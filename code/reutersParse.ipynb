{
 "cells": [
  {
   "cell_type": "code",
   "execution_count": 1,
   "metadata": {
    "collapsed": false
   },
   "outputs": [
    {
     "name": "stdout",
     "output_type": "stream",
     "text": [
      "Welcome to\n",
      "      ____              __\n",
      "     / __/__  ___ _____/ /__\n",
      "    _\\ \\/ _ \\/ _ `/ __/  '_/\n",
      "   /__ / .__/\\_,_/_/ /_/\\_\\   version 1.6.0-SNAPSHOT\n",
      "      /_/\n",
      "\n",
      "Using Python version 2.7.10 (default, May 28 2015 17:02:03)\n",
      "SparkContext available as sc, SQLContext available as sqlContext.\n"
     ]
    }
   ],
   "source": [
    "## spark version\n",
    "import os\n",
    "import sys\n",
    "\n",
    "spark_home = os.environ['SPARK_HOME']\n",
    "sys.path.insert(0, spark_home + \"/python/\")\n",
    "sys.path.insert(0, os.path.join(spark_home, 'python/lib/py4j-0.8.2.1-src.zip'))\n",
    "\n",
    "# Initialize PySpark to predefine the SparkContext variable 'sc'\n",
    "execfile(os.path.join(spark_home, 'python/pyspark/shell.py'))\n"
   ]
  },
  {
   "cell_type": "code",
   "execution_count": 100,
   "metadata": {
    "collapsed": true
   },
   "outputs": [],
   "source": [
    "articles = sc.newAPIHadoopFile(\"Reuters/lyrl2004_tokens_*.dat\", \n",
    "                    \"org.apache.hadoop.mapreduce.lib.input.TextInputFormat\",\n",
    "                    \"org.apache.hadoop.io.LongWritable\", \n",
    "                    \"org.apache.hadoop.io.Text\",\n",
    "                    conf={\"textinputformat.record.delimiter\": \".I \"}) \\\n",
    "    .map(lambda l:l[1]) \\\n",
    "    .filter(lambda x: x != u'')\n"
   ]
  },
  {
   "cell_type": "code",
   "execution_count": 106,
   "metadata": {
    "collapsed": false
   },
   "outputs": [
    {
     "data": {
      "text/plain": [
       "[u'26151\\n.W\\nsocc colomb colomb colomb colomb beat beat chil chil chil chil world world world cup cup cup qualif qualif qualif qualif halftim south south americ americ match sunday scor faustin\\nasprill st minut minut jorg bermudez ivan zamoran penalt attend group stand tabulat play won draw lost goal goal point ecuador argentin boliv paraguay uruguay peru venezuel note top final franc\\nbrazil automat hold\\n\\n',\n",
       " u'26152\\n.W\\nworld world world world qualif qualif sunday minut minut won hold athlet time time time time time lucky lucky komen komen komen komen break break record record record daniel keny\\nkeny keny keny keny keny made shat noureddin morcel morcel morcel morcel morcel morcel morcel met met met met met met second second second second intern meet year year fail fail\\natlant olymp olymp olymp olymp clock clock clock clock set set ago mont carl blist form grand grand prix prix circuit mark mark monac month brussel august fast fast hist hist\\nfinish finish back back sixth plac david kisang led field lead carry ahead ahead near rival shem koror italian gennar di napol champ champ young good deserv today result told report\\nmean thing ve mile comfort burund venust niyongab born wilson kipket run denmark\\n\\n',\n",
       " u'26153\\n.W\\nhernandez socc jess colomb valient beat beat gabriel gabriel chil urdanet world world world vera cup cup cup mirand qualif juan juan socor south south hernndez americ americ sunday scor\\nscor minut minut jorg ivan group play lost point point ecuador ecuador ecuador ecuador ecuador ecuador ecuador ecuador argentin venezuel venezuel top brazil record month finish david field good born step\\nstep quit sept win win game game game captain alex alex aguinag aguinag aguinag featur nation nation tourna prec jeer crowd expect high weak team team team snap rebound shot gilson\\ngilson de de souz souz fourth unabl add tally coach boss francisc maturan home impress start chanc long quest ask defeat santiag ventur carlo moral wagn river hurtad hurtad maxim tenorio\\nlui lui lui lui capur diaz alfons obregon hect carabal jose garcia garcia angel fernandez eduard rafael dudamel filos william gonzalez edson tortoler macintosh sergio\\n\\n']"
      ]
     },
     "execution_count": 106,
     "metadata": {},
     "output_type": "execute_result"
    }
   ],
   "source": [
    "articles.take(2)"
   ]
  },
  {
   "cell_type": "code",
   "execution_count": 107,
   "metadata": {
    "collapsed": false
   },
   "outputs": [],
   "source": [
    "import re\n",
    "idspot = re.compile(r\"^(\\d*)\\n.W\\n\")\n",
    "\n",
    "def wrdcount(x):\n",
    "    try:\n",
    "        did = idspot.match(x).group(1) \n",
    "        wrds = re.sub('\\n',' ', idspot.sub('',x)).split()\n",
    "        counter = wrds.count \n",
    "        return [(w,u\"{0}|{1}\".format(did,counter(w))) for w in set(wrds)]\n",
    "    except:\n",
    "        return None\n"
   ]
  },
  {
   "cell_type": "code",
   "execution_count": 108,
   "metadata": {
    "collapsed": false
   },
   "outputs": [],
   "source": [
    "tokens = articles.flatMap(wrdcount).sortByKey( )"
   ]
  },
  {
   "cell_type": "code",
   "execution_count": 110,
   "metadata": {
    "collapsed": false
   },
   "outputs": [
    {
     "data": {
      "text/plain": [
       "[(u'_', u'38911|2'),\n",
       " (u'_', u'39049|2'),\n",
       " (u'_', u'58914|1'),\n",
       " (u'_', u'67020|1'),\n",
       " (u'_', u'72416|1'),\n",
       " (u'_', u'80545|1'),\n",
       " (u'_', u'97538|1'),\n",
       " (u'_', u'118505|1'),\n",
       " (u'_', u'122529|2'),\n",
       " (u'_', u'122697|8')]"
      ]
     },
     "execution_count": 110,
     "metadata": {},
     "output_type": "execute_result"
    }
   ],
   "source": [
    "tokens.take(10)"
   ]
  },
  {
   "cell_type": "code",
   "execution_count": 111,
   "metadata": {
    "collapsed": false
   },
   "outputs": [],
   "source": [
    "lines = tokens.map( lambda x: u\"{0}|{1}\".format(x[0],x[1]) )\n",
    "lines.saveAsTextFile('reutersTokens')"
   ]
  },
  {
   "cell_type": "code",
   "execution_count": null,
   "metadata": {
    "collapsed": true
   },
   "outputs": [],
   "source": []
  }
 ],
 "metadata": {
  "kernelspec": {
   "display_name": "Python 2",
   "language": "python",
   "name": "python2"
  },
  "language_info": {
   "codemirror_mode": {
    "name": "ipython",
    "version": 2
   },
   "file_extension": ".py",
   "mimetype": "text/x-python",
   "name": "python",
   "nbconvert_exporter": "python",
   "pygments_lexer": "ipython2",
   "version": "2.7.10"
  }
 },
 "nbformat": 4,
 "nbformat_minor": 0
}
